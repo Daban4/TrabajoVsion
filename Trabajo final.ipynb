{
 "cells": [
  {
   "cell_type": "code",
   "execution_count": 1,
   "id": "f788c05e-021f-4d03-8cbd-a04b73fe7c95",
   "metadata": {},
   "outputs": [],
   "source": [
    "import numpy as np\n",
    "import matplotlib.pyplot as plt\n",
    "import cv2"
   ]
  },
  {
   "cell_type": "code",
   "execution_count": null,
   "id": "291795fb-f0a1-488a-969b-186297453e5b",
   "metadata": {},
   "outputs": [],
   "source": [
    "Ideas:\n",
    "- ampliar rango dinamico \n",
    "- Podriamos hacer homogenizar el histograma\n",
    "- Filtro de suavizado \n",
    "- Filtro de sal y pimienta(sobre todo sal y pimienta)"
   ]
  },
  {
   "cell_type": "code",
   "execution_count": null,
   "id": "e0e2fa6b-13fc-4ea7-8286-a0f571e937f8",
   "metadata": {},
   "outputs": [],
   "source": [
    "como subir documentos\n",
    "git pull\n",
    "modificar\n",
    "git add . ( o nombre del archivo)\n",
    "git commit -m \"descripcion de los cambios realizados\""
   ]
  },
  {
   "cell_type": "code",
   "execution_count": 21,
   "id": "c7af3546-4cbc-409d-9729-c14fb9cc375b",
   "metadata": {},
   "outputs": [
    {
     "name": "stdout",
     "output_type": "stream",
     "text": [
      "2 253\n"
     ]
    }
   ],
   "source": [
    "imagen = cv2.imread('cat_dog_100/train/dog/dog.10002.jpg', 0)\n",
    "print(np.min(imagen), np.max(imagen));\n",
    "imagenAmpliada = ampliarRangoDin(imagen)\n",
    "cv2.imshow('imagen original', imagen)\n",
    "cv2.imshow('imagen ampliada', imagenAmpliada)\n",
    "cv2.waitKey(0)\n",
    "cv2.destroyAllWindows()"
   ]
  },
  {
   "cell_type": "code",
   "execution_count": 19,
   "id": "7f2e1da3-608b-4bbf-946d-090b463e38dd",
   "metadata": {},
   "outputs": [],
   "source": [
    "def ampliarRangoDin(imagen):\n",
    "    imagen = np.float32(imagen);\n",
    "    imagenPlana = imagen.reshape(1, -1)\n",
    "    pixelesOrd = np.sort(imagenPlana)\n",
    "    al = np.unique(pixelesOrd)[5]\n",
    "    ah = np.unique(pixelesOrd)[-6]\n",
    "    imagenAmpliada = (imagen - al) * (255 /(ah - al))\n",
    "    np.clip(imagenAmpliada, 0, 255)\n",
    "    imagenAmpliada = np.uint8(np.clip(imagenAmpliada, 0, 255))\n",
    "    return imagenAmpliada"
   ]
  },
  {
   "cell_type": "code",
   "execution_count": 58,
   "id": "af3c3704-c38c-4249-9815-cc9919d3ecb0",
   "metadata": {},
   "outputs": [],
   "source": [
    "from scipy.ndimage import median_filter\n",
    "def filtroMediana (imagen, n = None):\n",
    "    imagen = np.float32(imagen)\n",
    "    if (n is None):\n",
    "        n = 3\n",
    "    ndiv = n //2\n",
    "    imagen_filtrada = np.zeros_like(imagen)\n",
    "    imagen_ampliada = cv2.copyMakeBorder(imagen, ndiv, ndiv, ndiv, ndiv, cv2.BORDER_REPLICATE)\n",
    "    ventana = n * 2 + 1\n",
    "    imagen_filtrada = median_filter(imagen, size=ventana)\n",
    "\n",
    "    imagen_filtrada = np.uint8(imagen_filtrada)\n",
    "    return imagen_filtrada\n",
    "    "
   ]
  },
  {
   "cell_type": "code",
   "execution_count": 97,
   "id": "5b72f275-61eb-4a45-acab-eaf6f6b3452b",
   "metadata": {},
   "outputs": [],
   "source": [
    "from skimage.util import random_noise\n",
    "\n",
    "imagen = cv2.imread('cat_dog_100/train/dog/dog.10095.jpg', 0)\n",
    "imagen_sp = np.uint8(255 * random_noise(imagen, mode= 's&p', amount = 0.1))\n",
    "imagenFiltradaMedia = (filtroMediana(imagen_sp))\n",
    "cv2.imshow('imagen original', imagen_sp)\n",
    "cv2.imshow('imagen filtrada', imagenFiltradaMedia)\n",
    "cv2.waitKey(0)\n",
    "cv2.destroyAllWindows()"
   ]
  },
  {
   "cell_type": "code",
   "execution_count": null,
   "id": "aae6e564-e9f1-47b0-be09-e52e5df8b0a8",
   "metadata": {},
   "outputs": [],
   "source": [
    "#Bordes "
   ]
  },
  {
   "cell_type": "code",
   "execution_count": 14,
   "id": "adcb7a59-6672-48ab-9b39-5267178e3512",
   "metadata": {},
   "outputs": [],
   "source": [
    "def filtro(imagen, mascara):\n",
    "    imagen = np.float32(imagen)\n",
    "    imagen_f = cv2.filter2D(imagen, -1, mascara)\n",
    "    return imagen_f"
   ]
  },
  {
   "cell_type": "code",
   "execution_count": 15,
   "id": "aecd3563-ba45-4005-93cd-0a516076c803",
   "metadata": {},
   "outputs": [],
   "source": [
    "def gradiente(imagen):\n",
    "    m_g_x = np.array([[-1, -2, -1], [0, 0, 0], [1, 2, 1]] )\n",
    "    m_g_y = np.array([[-1, 0, 1], [-2, 0, 2], [-1, 0, 1]])\n",
    "    Ix = filtro(imagen, m_g_x)\n",
    "    Iy = filtro(imagen, m_g_y)\n",
    "    E = np.sqrt(Ix**2 + Iy**2)\n",
    "    Phi = np.arctan2(Ix, Iy)\n",
    "    return E, Phi"
   ]
  },
  {
   "cell_type": "code",
   "execution_count": null,
   "id": "e5192c8a-c992-4b42-9181-61133004d113",
   "metadata": {},
   "outputs": [],
   "source": []
  },
  {
   "cell_type": "code",
   "execution_count": 6,
   "id": "9b1cc554-7e22-4a82-ba74-21af1b8b729c",
   "metadata": {},
   "outputs": [],
   "source": [
    "imagen = cv2.imread('cat_dog_100/train/dog/dog.10095.jpg', 0)\n",
    "E, phi = gradiente(imagen)\n",
    "\n",
    "cv2.imshow('Magnitudes',E/E.max())\n",
    "cv2.waitKey(0)\n",
    "cv2.destroyAllWindows()"
   ]
  },
  {
   "cell_type": "code",
   "execution_count": 67,
   "id": "6f9f7296-5e5a-415f-97f7-6a62953e2fa6",
   "metadata": {},
   "outputs": [],
   "source": [
    "import numpy as np\n",
    "import cv2 as cv\n",
    "\n",
    "filename = 'cat_dog_100/train/dog/dog.10009.jpg'\n",
    "img = cv.imread(filename)\n",
    "gray = cv.cvtColor(img,cv.COLOR_BGR2GRAY)\n",
    "\n",
    "gray = np.float32(gray)\n",
    "gray = filtroMediana(gray)\n",
    "dst = cv.cornerHarris(gray,2,3,0.04)\n",
    "\n",
    "#result is dilated for marking the corners, not important\n",
    "dst = cv.dilate(dst,None)\n",
    "\n",
    "# Threshold for an optimal value, it may vary depending on the image.\n",
    "img[dst>0.01*dst.max()]= 255\n",
    "\n",
    "cv.imshow('dst',img)\n",
    "cv2.waitKey(0)\n",
    "cv2.destroyAllWindows()"
   ]
  },
  {
   "cell_type": "code",
   "execution_count": null,
   "id": "c0e46191-0381-413d-9edb-99abba281b64",
   "metadata": {},
   "outputs": [],
   "source": [
    "Probar a umbralizar, como en la imagen del platano, sino hay mucha mierda"
   ]
  },
  {
   "cell_type": "code",
   "execution_count": 7,
   "id": "987ec98d-3fb1-413a-83c0-adf9ffefdb69",
   "metadata": {},
   "outputs": [],
   "source": [
    "def imagen_media_chat(imagen, etiquetas, centros):\n",
    "    print(centros)\n",
    "    etiquetas = etiquetas.reshape(imagen.shape)\n",
    "    imagen_segmentada = np.zeros_like(imagen, dtype=np.float32)    \n",
    "    for i, centro in enumerate(centros):\n",
    "        imagen_segmentada[etiquetas == i] = centro\n",
    "    \n",
    "    return imagen_segmentada.astype(np.uint8)  # Convertir a uint8 para visualización\n"
   ]
  },
  {
   "cell_type": "code",
   "execution_count": 9,
   "id": "8591a37d-5a29-4e95-a510-5c121dd9f853",
   "metadata": {},
   "outputs": [
    {
     "name": "stdout",
     "output_type": "stream",
     "text": [
      "[[111.47733756]\n",
      " [169.51025449]\n",
      " [220.94699711]\n",
      " [137.97871623]\n",
      " [ 69.55864902]]\n"
     ]
    }
   ],
   "source": [
    "from sklearn.cluster import KMeans\n",
    "imagen = cv2.imread('cat_dog_100/train/dog/dog.10009.jpg', 0)\n",
    "kmeans = KMeans(n_clusters = 5, n_init=10)\n",
    "kmeans.fit(imagen.reshape(-1, 1))\n",
    "centros = kmeans.cluster_centers_\n",
    "etiquetas = kmeans.labels_\n",
    "imagenMedia = imagen_media_chat(imagen, etiquetas, centros)\n",
    "cv2.imshow('Imagen media', imagenMedia)\n",
    "cv2.waitKey(0)\n",
    "cv2.destroyAllWindows()"
   ]
  },
  {
   "cell_type": "code",
   "execution_count": null,
   "id": "53aafce6-c490-4116-b7ea-1fcde26b72a1",
   "metadata": {},
   "outputs": [],
   "source": []
  }
 ],
 "metadata": {
  "kernelspec": {
   "display_name": "Python 3 (ipykernel)",
   "language": "python",
   "name": "python3"
  },
  "language_info": {
   "codemirror_mode": {
    "name": "ipython",
    "version": 3
   },
   "file_extension": ".py",
   "mimetype": "text/x-python",
   "name": "python",
   "nbconvert_exporter": "python",
   "pygments_lexer": "ipython3",
   "version": "3.11.8"
  }
 },
 "nbformat": 4,
 "nbformat_minor": 5
}
