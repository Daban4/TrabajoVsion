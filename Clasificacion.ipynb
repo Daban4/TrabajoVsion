{
 "cells": [
  {
   "cell_type": "code",
   "execution_count": 1,
   "id": "33609387-1e38-456e-8a6f-8cbe7ce74ef0",
   "metadata": {},
   "outputs": [],
   "source": [
    "import cv2\n",
    "import numpy as np\n",
    "import os\n",
    "from skimage.feature import hog\n",
    "from sklearn.svm import SVC\n",
    "from sklearn.metrics import precision_score\n",
    "from skimage import data, exposure\n",
    "import sys\n",
    "import Funciones\n",
    "from sklearn.preprocessing import StandardScaler\n",
    "from sklearn.ensemble import RandomForestClassifier\n"
   ]
  },
  {
   "cell_type": "code",
   "execution_count": 2,
   "id": "bd0bff91-0bc1-45c9-9a4a-16de576cf5fd",
   "metadata": {},
   "outputs": [],
   "source": [
    "# 1. Preprocesamiento\n",
    "from Funciones import filtroMediana\n",
    "def preprocesar_imagen(ruta_imagen):\n",
    "    imagen = cv2.imread(ruta_imagen, cv2.IMREAD_GRAYSCALE)\n",
    "    if imagen is None:  # Manejar imágenes no cargadas\n",
    "        print(f\"Error al cargar la imagen: {ruta_imagen}\")\n",
    "        return None\n",
    "    imagen = cv2.resize(imagen, (120, 120))  # Redimensionar a 128x128\n",
    "    imagen = Funciones.ampliarRangoDin(imagen)\n",
    "    imagen = cv2.equalizeHist(imagen)        # Ecualización del histograma\n",
    "    #imagen = Funciones.filtroMediana(imagen)\n",
    "    #imagen = Funciones.gradiente(imagen)\n",
    "    #imagen = imagen/np.max(imagen)\n",
    "    #imagen = cv2.GaussianBlur(imagen, (5, 5), 0)\n",
    "    #imagen = Funciones.umbralizacion(imagen)\n",
    "    \n",
    "    return imagen"
   ]
  },
  {
   "cell_type": "code",
   "execution_count": 3,
   "id": "f88736af-b28d-4e1d-ab99-4442b4759d88",
   "metadata": {},
   "outputs": [],
   "source": [
    "# 2. Creación del dataset prueba\n",
    "def crear_dataset(directorio_imagenes):\n",
    "    \"\"\"\n",
    "    Crea un dataset de características y etiquetas a partir de un directorio.\n",
    "    \"\"\"\n",
    "    X, y = [], []  # X para características, y para etiquetas\n",
    "    for etiqueta, nombre_clase in enumerate(['cat', 'dog']):\n",
    "        directorio_clase = os.path.join(directorio_imagenes, nombre_clase)\n",
    "        for nombre_archivo in os.listdir(directorio_clase):\n",
    "            ruta_imagen = os.path.join(directorio_clase, nombre_archivo)\n",
    "            imagen = preprocesar_imagen(ruta_imagen)\n",
    "            if imagen is None:  # Omitir imágenes no válidas\n",
    "                continue\n",
    "            #fd, imagen  = Funciones.extraccion_hog(imagen)\n",
    "            #imagen = np.float32(imagen)\n",
    "            imagen = cv2.cornerHarris(imagen,2,3,0.04)\n",
    "            posiciones, valores = Funciones.maximos_locales(imagen)\n",
    "            #posiciones = posiciones[valores > 0.01 * np.max(imagen)]\n",
    "            #valores = valores[valores > 0.01 * np.max(imagen)]\n",
    "            caracteristicas = Funciones.reducir_mat(16, posiciones, valores)\n",
    "            X.append(caracteristicas.flatten())\n",
    "            y.append(etiqueta)\n",
    "    return np.array(X), np.array(y)"
   ]
  },
  {
   "cell_type": "code",
   "execution_count": 7,
   "id": "d382b33c-78c7-4605-b84a-6ab8088a1c18",
   "metadata": {},
   "outputs": [],
   "source": [
    "# 3. Clasificación\n",
    "def clasificacion(y_real, y_predicha):\n",
    "    nombres_clases = {0: \"gatos\", 1: \"perros\"}\n",
    "    reporte = {}\n",
    "    for clase in [0, 1]:\n",
    "        precision = precision_score(y_real, y_predicha, labels=[clase], average=\"micro\")\n",
    "        reporte[nombres_clases[clase]] = {\n",
    "            'precision': precision\n",
    "        }\n",
    "    # Imprimir clasificación\n",
    "    print(\"Clasificación :\")\n",
    "    for nombre_clase, metricas in reporte.items():\n",
    "        print(f\"\\nClase {nombre_clase}:\")\n",
    "        for metrica, valor in metricas.items():\n",
    "            print(f\"  {metrica}: {valor * 100:.2f} %\")"
   ]
  },
  {
   "cell_type": "code",
   "execution_count": 6,
   "id": "99cfc807-3365-4e33-a2ba-157fa1abedc4",
   "metadata": {},
   "outputs": [
    {
     "name": "stdout",
     "output_type": "stream",
     "text": [
      "Extrayendo características Harris...\n",
      "Entrenando modelo Random forest...\n",
      "Evaluando modelo...\n",
      "Clasificación :\n",
      "\n",
      "Clase gatos:\n",
      "  precision: 100.00 %\n",
      "\n",
      "Clase perros:\n",
      "  precision: 86.21 %\n"
     ]
    }
   ],
   "source": [
    "#pipeline\n",
    "train_dir = 'cat_dog_500/train'\n",
    "test_dir = 'cat_dog_500/test'\n",
    "\n",
    "print(\"Extrayendo características Harris...\")\n",
    "X_train, y_train = crear_dataset(train_dir)\n",
    "X_test, y_test = crear_dataset(test_dir)\n",
    "\n",
    "scaler = StandardScaler()\n",
    "X_train = scaler.fit_transform(X_train)\n",
    "X_test = scaler.transform(X_test)\n",
    "\n",
    "\n",
    "print(\"Entrenando modelo Random forest...\")\n",
    "rf_model = RandomForestClassifier(n_estimators=100, random_state=42)\n",
    "rf_model.fit(X_train, y_train)\n",
    "\n",
    "print(\"Evaluando modelo...\")\n",
    "y_pred = rf_model.predict(X_test)\n",
    "clasificacion(y_test, y_pred)"
   ]
  },
  {
   "cell_type": "code",
   "execution_count": null,
   "id": "e46efdd1-53fe-4ca3-b1e9-921df286f27e",
   "metadata": {},
   "outputs": [],
   "source": []
  }
 ],
 "metadata": {
  "kernelspec": {
   "display_name": "Python 3 (ipykernel)",
   "language": "python",
   "name": "python3"
  },
  "language_info": {
   "codemirror_mode": {
    "name": "ipython",
    "version": 3
   },
   "file_extension": ".py",
   "mimetype": "text/x-python",
   "name": "python",
   "nbconvert_exporter": "python",
   "pygments_lexer": "ipython3",
   "version": "3.11.8"
  }
 },
 "nbformat": 4,
 "nbformat_minor": 5
}
