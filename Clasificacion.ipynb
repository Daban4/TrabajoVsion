{
 "cells": [
  {
   "cell_type": "code",
   "execution_count": 4,
   "id": "33609387-1e38-456e-8a6f-8cbe7ce74ef0",
   "metadata": {},
   "outputs": [],
   "source": [
    "import cv2\n",
    "import numpy as np\n",
    "import os\n",
    "from skimage.feature import hog\n",
    "from sklearn.svm import SVC\n",
    "from sklearn.metrics import precision_score"
   ]
  },
  {
   "cell_type": "code",
   "execution_count": 8,
   "id": "bd0bff91-0bc1-45c9-9a4a-16de576cf5fd",
   "metadata": {},
   "outputs": [],
   "source": [
    "# 1. Preprocesamiento\n",
    "def preprocesar_imagen(ruta_imagen):\n",
    "    imagen = cv2.imread(ruta_imagen, cv2.IMREAD_GRAYSCALE)\n",
    "    if imagen is None:  # Manejar imágenes no cargadas\n",
    "        print(f\"Error al cargar la imagen: {ruta_imagen}\")\n",
    "        return None\n",
    "    imagen = cv2.resize(imagen, (128, 128))  # Redimensionar a 128x128\n",
    "    imagen = cv2.equalizeHist(imagen)        # Ecualización del histograma\n",
    "    return imagen"
   ]
  },
  {
   "cell_type": "code",
   "execution_count": 9,
   "id": "a46ed041-9324-4ecc-a3db-b52915bae5c2",
   "metadata": {},
   "outputs": [],
   "source": [
    "# 2. Extracción de características HOG\n",
    "def extraccion_hog(imagen):\n",
    "    fd = hog(\n",
    "        imagen,\n",
    "        orientations=8,\n",
    "        pixels_per_cell=(16, 16),\n",
    "        cells_per_block=(1, 1),\n",
    "        visualize=False  # Solo devuelve el descriptor\n",
    "    )\n",
    "    return fd"
   ]
  },
  {
   "cell_type": "code",
   "execution_count": 15,
   "id": "21493b27-41a0-43fe-b69a-45d413e2c096",
   "metadata": {},
   "outputs": [],
   "source": [
    "# 3. Creación del dataset\n",
    "def crear_dataset(directorio_imagenes, extractor_caracteristicas):\n",
    "    \"\"\"\n",
    "    Crea un dataset de características y etiquetas a partir de un directorio.\n",
    "    \"\"\"\n",
    "    X, y = [], []  # X para características, y para etiquetas\n",
    "    for etiqueta, nombre_clase in enumerate(['cat', 'dog']):\n",
    "        directorio_clase = os.path.join(directorio_imagenes, nombre_clase)\n",
    "        for nombre_archivo in os.listdir(directorio_clase):\n",
    "            ruta_imagen = os.path.join(directorio_clase, nombre_archivo)\n",
    "            imagen = preprocesar_imagen(ruta_imagen)\n",
    "            if imagen is None:  # Omitir imágenes no válidas\n",
    "                continue\n",
    "            caracteristicas = extractor_caracteristicas(imagen)\n",
    "            X.append(caracteristicas)\n",
    "            y.append(etiqueta)\n",
    "    return np.array(X), np.array(y)"
   ]
  },
  {
   "cell_type": "code",
   "execution_count": 16,
   "id": "d382b33c-78c7-4605-b84a-6ab8088a1c18",
   "metadata": {},
   "outputs": [],
   "source": [
    "# 4. Clasificación\n",
    "def clasificacion(y_real, y_predicha):\n",
    "    nombres_clases = {0: \"gatos\", 1: \"perros\"}\n",
    "\n",
    "    # Inicializar un diccionario para almacenar las métricas por clase\n",
    "    reporte = {}\n",
    "    for clase in [0, 1]:\n",
    "        # Calcular las métricas por clase\n",
    "        precision = precision_score(y_real, y_predicha, labels=[clase], average=\"micro\")\n",
    "        reporte[nombres_clases[clase]] = {\n",
    "            'precision': precision\n",
    "        }\n",
    "    # Imprimir clasificación\n",
    "    print(\"Clasificación :\")\n",
    "    for nombre_clase, metricas in reporte.items():\n",
    "        print(f\"\\nClase {nombre_clase}:\")\n",
    "        for metrica, valor in metricas.items():\n",
    "            print(f\"  {metrica}: {valor:.2f}\")"
   ]
  },
  {
   "cell_type": "code",
   "execution_count": 20,
   "id": "a4478f79-48dd-4e99-bc74-07b84195c59d",
   "metadata": {},
   "outputs": [
    {
     "name": "stdout",
     "output_type": "stream",
     "text": [
      "Extrayendo características HOG...\n",
      "Entrenando modelo SVM...\n",
      "Evaluando modelo...\n",
      "Clasificación :\n",
      "\n",
      "Clase gatos:\n",
      "  precision: 0.78\n",
      "\n",
      "Clase perros:\n",
      "  precision: 0.67\n"
     ]
    }
   ],
   "source": [
    "##pipeline \n",
    "train_dir = 'cat_dog_500/train'\n",
    "test_dir = 'cat_dog_500/test'\n",
    "\n",
    "print(\"Extrayendo características HOG...\")\n",
    "X_train, y_train = crear_dataset(train_dir, extract_hog_features)\n",
    "X_test, y_test = crear_dataset(test_dir, extract_hog_features)\n",
    "\n",
    "print(\"Entrenando modelo SVM...\")\n",
    "clf = SVC(kernel='linear')\n",
    "clf.fit(X_train, y_train)\n",
    "\n",
    "print(\"Evaluando modelo...\")\n",
    "y_pred = clf.predict(X_test)\n",
    "clasificacion(y_test, y_pred)"
   ]
  }
 ],
 "metadata": {
  "kernelspec": {
   "display_name": "Python 3 (ipykernel)",
   "language": "python",
   "name": "python3"
  },
  "language_info": {
   "codemirror_mode": {
    "name": "ipython",
    "version": 3
   },
   "file_extension": ".py",
   "mimetype": "text/x-python",
   "name": "python",
   "nbconvert_exporter": "python",
   "pygments_lexer": "ipython3",
   "version": "3.11.8"
  }
 },
 "nbformat": 4,
 "nbformat_minor": 5
}
