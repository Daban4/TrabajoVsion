{
 "cells": [
  {
   "cell_type": "code",
   "execution_count": 2,
   "id": "33609387-1e38-456e-8a6f-8cbe7ce74ef0",
   "metadata": {},
   "outputs": [],
   "source": [
    "import cv2\n",
    "import numpy as np\n",
    "import os\n",
    "from skimage.feature import hog\n",
    "from sklearn.svm import SVC\n",
    "from sklearn.metrics import precision_score\n",
    "from skimage import data, exposure\n",
    "import sys\n",
    "import Funciones\n",
    "from sklearn.preprocessing import StandardScaler\n"
   ]
  },
  {
   "cell_type": "code",
   "execution_count": 15,
   "id": "bd0bff91-0bc1-45c9-9a4a-16de576cf5fd",
   "metadata": {},
   "outputs": [],
   "source": [
    "# 1. Preprocesamiento\n",
    "from Funciones import filtroMediana\n",
    "def preprocesar_imagen(ruta_imagen):\n",
    "    imagen = cv2.imread(ruta_imagen, cv2.IMREAD_GRAYSCALE)\n",
    "    if imagen is None:  # Manejar imágenes no cargadas\n",
    "        print(f\"Error al cargar la imagen: {ruta_imagen}\")\n",
    "        return None\n",
    "    imagen = cv2.resize(imagen, (128, 128))  # Redimensionar a 128x128\n",
    "    imagen = cv2.equalizeHist(imagen)        # Ecualización del histograma\n",
    "    #imagen = Funciones.filtroMediana(imagen)\n",
    "    #imagen = Funciones.gradiente(imagen)\n",
    "    #imagen = imagen/np.max(imagen)\n",
    "    #imagen = cv2.GaussianBlur(imagen, (5, 5), 0)\n",
    "    #imagen = Funciones.umbralizacion(imagen)\n",
    "    #imagen = Funciones.ampliarRangoDin(imagen)\n",
    "    return imagen"
   ]
  },
  {
   "cell_type": "code",
   "execution_count": 16,
   "id": "21493b27-41a0-43fe-b69a-45d413e2c096",
   "metadata": {},
   "outputs": [],
   "source": [
    "# 2. Creación del dataset\n",
    "def crear_dataset(directorio_imagenes):\n",
    "    \"\"\"\n",
    "    Crea un dataset de características y etiquetas a partir de un directorio.\n",
    "    \"\"\"\n",
    "    X, y = [], []  # X para características, y para etiquetas\n",
    "    for etiqueta, nombre_clase in enumerate(['cat', 'dog']):\n",
    "        directorio_clase = os.path.join(directorio_imagenes, nombre_clase)\n",
    "        for nombre_archivo in os.listdir(directorio_clase):\n",
    "            ruta_imagen = os.path.join(directorio_clase, nombre_archivo)\n",
    "            imagen = preprocesar_imagen(ruta_imagen)\n",
    "            if imagen is None:  # Omitir imágenes no válidas\n",
    "                continue\n",
    "            imagen = cv2.cornerHarris(imagen,2,3,0.04)   \n",
    "            X.append(imagen.flatten())\n",
    "            y.append(etiqueta)\n",
    "    return np.array(X), np.array(y)"
   ]
  },
  {
   "cell_type": "code",
   "execution_count": 17,
   "id": "f88736af-b28d-4e1d-ab99-4442b4759d88",
   "metadata": {},
   "outputs": [],
   "source": [
    "# 2. Creación del dataset prueba\n",
    "def crear_dataset_prueba(directorio_imagenes):\n",
    "    \"\"\"\n",
    "    Crea un dataset de características y etiquetas a partir de un directorio.\n",
    "    \"\"\"\n",
    "    X, y = [], []  # X para características, y para etiquetas\n",
    "    for etiqueta, nombre_clase in enumerate(['cat', 'dog']):\n",
    "        directorio_clase = os.path.join(directorio_imagenes, nombre_clase)\n",
    "        for nombre_archivo in os.listdir(directorio_clase):\n",
    "            ruta_imagen = os.path.join(directorio_clase, nombre_archivo)\n",
    "            imagen = preprocesar_imagen(ruta_imagen)\n",
    "            if imagen is None:  # Omitir imágenes no válidas\n",
    "                continue\n",
    "            imagen = cv2.cornerHarris(imagen,2,3,0.04)\n",
    "            posiciones, valores = Funciones.maximos_locales(imagen)\n",
    "            posiciones = posiciones[valores > 0.01 * np.max(imagen)]\n",
    "            valores = valores[valores > 0.01 * np.max(imagen)]\n",
    "            caracteristicas = Funciones.reducir_mat(16, posiciones, valores)\n",
    "            X.append(caracteristicas.flatten())\n",
    "            y.append(etiqueta)\n",
    "    return np.array(X), np.array(y)"
   ]
  },
  {
   "cell_type": "code",
   "execution_count": 18,
   "id": "d382b33c-78c7-4605-b84a-6ab8088a1c18",
   "metadata": {},
   "outputs": [],
   "source": [
    "# 3. Clasificación\n",
    "def clasificacion(y_real, y_predicha):\n",
    "    nombres_clases = {0: \"gatos\", 1: \"perros\"}\n",
    "\n",
    "    # Inicializar un diccionario para almacenar las métricas por clase\n",
    "    reporte = {}\n",
    "    for clase in [0, 1]:\n",
    "        # Calcular las métricas por clase\n",
    "        precision = precision_score(y_real, y_predicha, labels=[clase], average=\"micro\")\n",
    "        reporte[nombres_clases[clase]] = {\n",
    "            'precision': precision\n",
    "        }\n",
    "    # Imprimir clasificación\n",
    "    print(\"Clasificación :\")\n",
    "    for nombre_clase, metricas in reporte.items():\n",
    "        print(f\"\\nClase {nombre_clase}:\")\n",
    "        for metrica, valor in metricas.items():\n",
    "            print(f\"  {metrica}: {valor * 100:.2f} %\")"
   ]
  },
  {
   "cell_type": "code",
   "execution_count": 19,
   "id": "c9eb0458-685d-40a2-a573-2ff53e43bb66",
   "metadata": {},
   "outputs": [
    {
     "name": "stdout",
     "output_type": "stream",
     "text": [
      "Extrayendo características Harris...\n",
      "Entrenando modelo SVM...\n",
      "Evaluando modelo...\n",
      "Clasificación :\n",
      "\n",
      "Clase gatos:\n",
      "  precision: 74.26 %\n",
      "\n",
      "Clase perros:\n",
      "  precision: 74.75 %\n"
     ]
    }
   ],
   "source": [
    "#pipeline\n",
    "train_dir = 'cat_dog_500/train'\n",
    "test_dir = 'cat_dog_500/test'\n",
    "\n",
    "print(\"Extrayendo características Harris...\")\n",
    "X_train, y_train = crear_dataset_prueba(train_dir)\n",
    "X_test, y_test = crear_dataset_prueba(test_dir)\n",
    "\n",
    "scaler = StandardScaler()\n",
    "X_train = scaler.fit_transform(X_train)\n",
    "X_test = scaler.transform(X_test)\n",
    "\n",
    "\n",
    "print(\"Entrenando modelo SVM...\")\n",
    "clf = SVC(kernel='linear')\n",
    "clf.fit(X_train, y_train)\n",
    "\n",
    "print(\"Evaluando modelo...\")\n",
    "y_pred = clf.predict(X_test)\n",
    "clasificacion(y_test, y_pred)"
   ]
  },
  {
   "cell_type": "code",
   "execution_count": 20,
   "id": "473252f3-b1bf-406d-af03-c5c0a3060b16",
   "metadata": {},
   "outputs": [
    {
     "name": "stdout",
     "output_type": "stream",
     "text": [
      "Extrayendo características Harris...\n",
      "Entrenando modelo regresino logistica...\n",
      "Evaluando modelo...\n",
      "Clasificación :\n",
      "\n",
      "Clase gatos:\n",
      "  precision: 97.22 %\n",
      "\n",
      "Clase perros:\n",
      "  precision: 76.56 %\n"
     ]
    }
   ],
   "source": [
    "#pipeline\n",
    "from sklearn.preprocessing import PolynomialFeatures\n",
    "from sklearn.linear_model import LogisticRegression\n",
    "train_dir = 'cat_dog_500/train'\n",
    "test_dir = 'cat_dog_500/test'\n",
    "\n",
    "print(\"Extrayendo características Harris...\")\n",
    "X_train, y_train = crear_dataset_prueba(train_dir)\n",
    "X_test, y_test = crear_dataset_prueba(test_dir)\n",
    "\n",
    "grado = 2\n",
    "poly = PolynomialFeatures(degree=grado)\n",
    "X_train_poly = poly.fit_transform(X_train)\n",
    "X_test_poly = poly.transform(X_test)\n",
    "scaler = StandardScaler()\n",
    "X_train = scaler.fit_transform(X_train_poly)\n",
    "X_test = scaler.transform(X_test_poly)\n",
    "\n",
    "print(\"Entrenando modelo regresino logistica...\")\n",
    "logistic = LogisticRegression(max_iter=1000, random_state=0)\n",
    "logistic.fit(X_train, y_train)\n",
    "\n",
    "print(\"Evaluando modelo...\")\n",
    "y_pred = logistic.predict(X_test)\n",
    "clasificacion(y_test, y_pred)"
   ]
  },
  {
   "cell_type": "code",
   "execution_count": null,
   "id": "99cfc807-3365-4e33-a2ba-157fa1abedc4",
   "metadata": {},
   "outputs": [],
   "source": []
  },
  {
   "cell_type": "code",
   "execution_count": null,
   "id": "1966f60f-2166-4d7c-b942-2802b57b64f2",
   "metadata": {},
   "outputs": [],
   "source": []
  }
 ],
 "metadata": {
  "kernelspec": {
   "display_name": "Python 3 (ipykernel)",
   "language": "python",
   "name": "python3"
  },
  "language_info": {
   "codemirror_mode": {
    "name": "ipython",
    "version": 3
   },
   "file_extension": ".py",
   "mimetype": "text/x-python",
   "name": "python",
   "nbconvert_exporter": "python",
   "pygments_lexer": "ipython3",
   "version": "3.11.8"
  }
 },
 "nbformat": 4,
 "nbformat_minor": 5
}
