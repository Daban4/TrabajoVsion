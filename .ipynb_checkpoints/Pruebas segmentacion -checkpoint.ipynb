{
 "cells": [
  {
   "cell_type": "code",
   "execution_count": 1,
   "id": "e8eeb72a-d367-4376-9e3c-5c092fd7207e",
   "metadata": {},
   "outputs": [
    {
     "ename": "ModuleNotFoundError",
     "evalue": "No module named 'rembg'",
     "output_type": "error",
     "traceback": [
      "\u001b[1;31m---------------------------------------------------------------------------\u001b[0m",
      "\u001b[1;31mModuleNotFoundError\u001b[0m                       Traceback (most recent call last)",
      "Cell \u001b[1;32mIn[1], line 1\u001b[0m\n\u001b[1;32m----> 1\u001b[0m \u001b[38;5;28;01mfrom\u001b[39;00m \u001b[38;5;21;01mrembg\u001b[39;00m \u001b[38;5;28;01mimport\u001b[39;00m remove\n\u001b[0;32m      2\u001b[0m \u001b[38;5;28;01mfrom\u001b[39;00m \u001b[38;5;21;01mPIL\u001b[39;00m \u001b[38;5;28;01mimport\u001b[39;00m Image\n\u001b[0;32m      3\u001b[0m \u001b[38;5;28;01mimport\u001b[39;00m \u001b[38;5;21;01mnumpy\u001b[39;00m \u001b[38;5;28;01mas\u001b[39;00m \u001b[38;5;21;01mnp\u001b[39;00m\n",
      "\u001b[1;31mModuleNotFoundError\u001b[0m: No module named 'rembg'"
     ]
    }
   ],
   "source": [
    "from rembg import remove\n",
    "from PIL import Image\n",
    "import numpy as np\n",
    "\n",
    "# Cargar imagen y eliminar fondo\n",
    "with open('cat_dog_100/train/dog/dog.10095.jpg', 'rb') as f:\n",
    "    input_image = f.read()\n",
    "\n",
    "output_image = remove(input_image)\n",
    "\n",
    "# Guardar el resultado sin fondo\n",
    "with open('perro_sin_fondo.png', 'wb') as f:\n",
    "    f.write(output_image)"
   ]
  },
  {
   "cell_type": "code",
   "execution_count": 37,
   "id": "2723050d-c0da-45a5-bb6f-31c0c51f9a23",
   "metadata": {},
   "outputs": [
    {
     "name": "stdout",
     "output_type": "stream",
     "text": [
      "[[191 186 156 ... 124 149 166]\n",
      " [175 169 153 ... 135 146 154]\n",
      " [156 148 154 ... 134 130 129]\n",
      " ...\n",
      " [188 171 155 ... 187 169 132]\n",
      " [116 133 156 ... 192 186 157]\n",
      " [116 138 161 ... 212 223 215]]\n",
      "[[255 255 156 ... 124 149 255]\n",
      " [255 255 153 ... 135 146 154]\n",
      " [156 148 154 ... 134 130 129]\n",
      " ...\n",
      " [255 255 155 ... 255 255 132]\n",
      " [116 133 156 ... 255 255 157]\n",
      " [116 138 255 ... 255 255 255]]\n"
     ]
    }
   ],
   "source": [
    "import numpy as np\n",
    "import cv2\n",
    "imagen = cv2.imread('cat_dog_100/train/dog/dog.10089.jpg', 0)\n",
    "h, bins = np.histogram (imagen, bins = 256, range = [0, 256])\n",
    "q = np.median(imagen)\n",
    "\n",
    "print(imagen)\n",
    "segmentada = imagen\n",
    "segmentada[imagen>q] = 255\n",
    "print(segmentada)\n",
    "\n",
    "          \n",
    "cv2.imshow('dst',segmentada)\n",
    "cv2.waitKey(0)\n",
    "cv2.destroyAllWindows()"
   ]
  }
 ],
 "metadata": {
  "kernelspec": {
   "display_name": "Python 3 (ipykernel)",
   "language": "python",
   "name": "python3"
  },
  "language_info": {
   "codemirror_mode": {
    "name": "ipython",
    "version": 3
   },
   "file_extension": ".py",
   "mimetype": "text/x-python",
   "name": "python",
   "nbconvert_exporter": "python",
   "pygments_lexer": "ipython3",
   "version": "3.11.8"
  }
 },
 "nbformat": 4,
 "nbformat_minor": 5
}
