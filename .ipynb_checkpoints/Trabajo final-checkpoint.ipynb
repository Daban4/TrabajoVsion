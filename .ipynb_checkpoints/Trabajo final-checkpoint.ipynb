{
 "cells": [
  {
   "cell_type": "code",
   "execution_count": null,
   "id": "f788c05e-021f-4d03-8cbd-a04b73fe7c95",
   "metadata": {},
   "outputs": [],
   "source": [
    "import numpy as np\n",
    "import matplotlib.pyplot as plt"
   ]
  },
  {
   "cell_type": "markdown",
   "id": "f9c98177",
   "metadata": {},
   "source": [
    "Ideas:\n",
    "- ampliar rango dinamico \n",
    "- Podriamos hacer homogenizar el histograma\n",
    "- Filtro de suavizado \n",
    "- Filtro de sal y pimienta(sobre todo sal y pimienta)"
   ]
  },
  {
   "cell_type": "markdown",
   "id": "9fccfc55",
   "metadata": {},
   "source": [
    "como subir documentos\n",
    "git pull\n",
    "modificar\n",
    "git add . ( o nombre del archivo)\n",
    "git commit -m \"descripcion de los cambios realizados\"\n",
    "git push"
   ]
  }
 ],
 "metadata": {
  "kernelspec": {
   "display_name": "Python 3 (ipykernel)",
   "language": "python",
   "name": "python3"
  },
  "language_info": {
   "codemirror_mode": {
    "name": "ipython",
    "version": 3
   },
   "file_extension": ".py",
   "mimetype": "text/x-python",
   "name": "python",
   "nbconvert_exporter": "python",
   "pygments_lexer": "ipython3",
   "version": "3.11.8"
  }
 },
 "nbformat": 4,
 "nbformat_minor": 5
}
