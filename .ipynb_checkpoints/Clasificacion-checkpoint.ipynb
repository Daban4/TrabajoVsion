{
 "cells": [
  {
   "cell_type": "code",
   "execution_count": 1,
   "id": "33609387-1e38-456e-8a6f-8cbe7ce74ef0",
   "metadata": {},
   "outputs": [],
   "source": [
    "import cv2\n",
    "import numpy as np\n",
    "import os\n",
    "from skimage.feature import hog\n",
    "from sklearn.svm import SVC\n",
    "from sklearn.metrics import precision_score\n",
    "from skimage import data, exposure\n",
    "import sys\n",
    "import Funciones\n",
    "from sklearn.preprocessing import StandardScaler"
   ]
  },
  {
   "cell_type": "code",
   "execution_count": null,
   "id": "53c82096-a341-47eb-b413-2a1e8d3e225e",
   "metadata": {},
   "outputs": [],
   "source": []
  },
  {
   "cell_type": "code",
   "execution_count": 125,
   "id": "bd0bff91-0bc1-45c9-9a4a-16de576cf5fd",
   "metadata": {},
   "outputs": [],
   "source": [
    "# 1. Preprocesamiento\n",
    "from Funciones import filtroMediana\n",
    "def preprocesar_imagen(ruta_imagen):\n",
    "    imagen = cv2.imread(ruta_imagen, cv2.IMREAD_GRAYSCALE)\n",
    "    if imagen is None:  # Manejar imágenes no cargadas\n",
    "        print(f\"Error al cargar la imagen: {ruta_imagen}\")\n",
    "        return None\n",
    "    imagen = cv2.resize(imagen, (128, 128))  # Redimensionar a 128x128\n",
    "    imagen = cv2.equalizeHist(imagen)        # Ecualización del histograma\n",
    "    #imagen = Funciones.filtroMediana(imagen)\n",
    "    #imagen = Funciones.gradiente(imagen)\n",
    "    #imagen = imagen/np.max(imagen)\n",
    "    #imagen_suavizada = cv2.GaussianBlur(imagen, (5, 5), 0)\n",
    "    return imagen"
   ]
  },
  {
   "cell_type": "code",
   "execution_count": 55,
   "id": "a46ed041-9324-4ecc-a3db-b52915bae5c2",
   "metadata": {},
   "outputs": [],
   "source": [
    "# 2. Extracción de características HOG\n",
    "def extraccion_hog(imagen):\n",
    "    fd, imagen_hog = hog(\n",
    "        imagen,\n",
    "        orientations=8,\n",
    "        pixels_per_cell=(16, 16),\n",
    "        cells_per_block=(1, 1),\n",
    "        visualize=True  \n",
    "    )\n",
    "    return fd, imagen_hog"
   ]
  },
  {
   "cell_type": "code",
   "execution_count": 129,
   "id": "21493b27-41a0-43fe-b69a-45d413e2c096",
   "metadata": {},
   "outputs": [],
   "source": [
    "# 3. Creación del dataset\n",
    "def crear_dataset(directorio_imagenes):\n",
    "    \"\"\"\n",
    "    Crea un dataset de características y etiquetas a partir de un directorio.\n",
    "    \"\"\"\n",
    "    X, y = [], []  # X para características, y para etiquetas\n",
    "    for etiqueta, nombre_clase in enumerate(['cat', 'dog']):\n",
    "        directorio_clase = os.path.join(directorio_imagenes, nombre_clase)\n",
    "        for nombre_archivo in os.listdir(directorio_clase):\n",
    "            ruta_imagen = os.path.join(directorio_clase, nombre_archivo)\n",
    "            imagen = preprocesar_imagen(ruta_imagen)\n",
    "            if imagen is None:  # Omitir imágenes no válidas\n",
    "                continue\n",
    "            imagen = cv2.cornerHarris(imagen,2,3,0.04)           \n",
    "            X.append(imagen.flatten())\n",
    "            y.append(etiqueta)\n",
    "    return np.array(X), np.array(y)"
   ]
  },
  {
   "cell_type": "code",
   "execution_count": 84,
   "id": "9e38eb8f-3f53-4419-a378-802ec8b38f1f",
   "metadata": {},
   "outputs": [],
   "source": [
    "def crear_dataset_prueba(directorio_imagenes):\n",
    "    \"\"\"\n",
    "    Crea un dataset de características y etiquetas a partir de un directorio.\n",
    "    \"\"\"\n",
    "    \n",
    "    X, y = [], []  # X para características, y para etiquetas\n",
    "    for etiqueta, nombre_clase in enumerate(['cat', 'dog']):\n",
    "        directorio_clase = os.path.join(directorio_imagenes, nombre_clase)\n",
    "        for nombre_archivo in os.listdir(directorio_clase):\n",
    "            ruta_imagen = os.path.join(directorio_clase, nombre_archivo)\n",
    "            imagen = preprocesar_imagen(ruta_imagen)\n",
    "            if imagen is None:  # Omitir imágenes no válidas\n",
    "                continue\n",
    "            fd, imagen_hog = extraccion_hog(imagen)\n",
    "            imagen_hog = np.float32(imagen_hog)\n",
    "            caracteristicas = cv2.cornerHarris(imagen,2,3,0.04).flatten()\n",
    "            X.append(caracteristicas)\n",
    "            y.append(etiqueta)\n",
    "    return np.array(X), np.array(y)"
   ]
  },
  {
   "cell_type": "code",
   "execution_count": 5,
   "id": "d382b33c-78c7-4605-b84a-6ab8088a1c18",
   "metadata": {},
   "outputs": [],
   "source": [
    "# 4. Clasificación\n",
    "def clasificacion(y_real, y_predicha):\n",
    "    nombres_clases = {0: \"gatos\", 1: \"perros\"}\n",
    "\n",
    "    # Inicializar un diccionario para almacenar las métricas por clase\n",
    "    reporte = {}\n",
    "    for clase in [0, 1]:\n",
    "        # Calcular las métricas por clase\n",
    "        precision = precision_score(y_real, y_predicha, labels=[clase], average=\"micro\")\n",
    "        reporte[nombres_clases[clase]] = {\n",
    "            'precision': precision\n",
    "        }\n",
    "    # Imprimir clasificación\n",
    "    print(\"Clasificación :\")\n",
    "    for nombre_clase, metricas in reporte.items():\n",
    "        print(f\"\\nClase {nombre_clase}:\")\n",
    "        for metrica, valor in metricas.items():\n",
    "            print(f\"  {metrica}: {valor * 100:.2f} %\")"
   ]
  },
  {
   "cell_type": "code",
   "execution_count": 6,
   "id": "a4478f79-48dd-4e99-bc74-07b84195c59d",
   "metadata": {},
   "outputs": [
    {
     "name": "stdout",
     "output_type": "stream",
     "text": [
      "Extrayendo características HOG...\n"
     ]
    },
    {
     "ename": "ValueError",
     "evalue": "setting an array element with a sequence. The requested array has an inhomogeneous shape after 2 dimensions. The detected shape was (1000, 2) + inhomogeneous part.",
     "output_type": "error",
     "traceback": [
      "\u001b[1;31m---------------------------------------------------------------------------\u001b[0m",
      "\u001b[1;31mValueError\u001b[0m                                Traceback (most recent call last)",
      "Cell \u001b[1;32mIn[6], line 6\u001b[0m\n\u001b[0;32m      3\u001b[0m test_dir \u001b[38;5;241m=\u001b[39m \u001b[38;5;124m'\u001b[39m\u001b[38;5;124mcat_dog_100/test\u001b[39m\u001b[38;5;124m'\u001b[39m\n\u001b[0;32m      5\u001b[0m \u001b[38;5;28mprint\u001b[39m(\u001b[38;5;124m\"\u001b[39m\u001b[38;5;124mExtrayendo características HOG...\u001b[39m\u001b[38;5;124m\"\u001b[39m)\n\u001b[1;32m----> 6\u001b[0m X_train, y_train \u001b[38;5;241m=\u001b[39m \u001b[43mcrear_dataset\u001b[49m\u001b[43m(\u001b[49m\u001b[43mtrain_dir\u001b[49m\u001b[43m,\u001b[49m\u001b[43m \u001b[49m\u001b[43mextraccion_hog\u001b[49m\u001b[43m)\u001b[49m\n\u001b[0;32m      7\u001b[0m X_test, y_test \u001b[38;5;241m=\u001b[39m crear_dataset(test_dir, extraccion_hog)\n\u001b[0;32m      9\u001b[0m scaler \u001b[38;5;241m=\u001b[39m StandardScaler()\n",
      "Cell \u001b[1;32mIn[4], line 17\u001b[0m, in \u001b[0;36mcrear_dataset\u001b[1;34m(directorio_imagenes, extractor_caracteristicas)\u001b[0m\n\u001b[0;32m     15\u001b[0m         X\u001b[38;5;241m.\u001b[39mappend(caracteristicas)\n\u001b[0;32m     16\u001b[0m         y\u001b[38;5;241m.\u001b[39mappend(etiqueta)\n\u001b[1;32m---> 17\u001b[0m \u001b[38;5;28;01mreturn\u001b[39;00m np\u001b[38;5;241m.\u001b[39marray(X), np\u001b[38;5;241m.\u001b[39marray(y)\n",
      "\u001b[1;31mValueError\u001b[0m: setting an array element with a sequence. The requested array has an inhomogeneous shape after 2 dimensions. The detected shape was (1000, 2) + inhomogeneous part."
     ]
    }
   ],
   "source": [
    "##pipeline \n",
    "train_dir = 'cat_dog_500/train'\n",
    "test_dir = 'cat_dog_500/test'\n",
    "\n",
    "print(\"Extrayendo características HOG...\")\n",
    "X_train, y_train = crear_dataset(train_dir, extraccion_ho)\n",
    "X_test, y_test = crear_dataset(test_dir, extraccion_hog)\n",
    "\n",
    "scaler = StandardScaler()\n",
    "X_train = scaler.fit_transform(X_train)\n",
    "X_test = scaler.transform(X_test)\n",
    "\n",
    "\n",
    "print(\"Entrenando modelo SVM...\")\n",
    "clf = SVC(kernel='linear')\n",
    "clf.fit(X_train, y_train)\n",
    "\n",
    "print(\"Evaluando modelo...\")\n",
    "y_pred = clf.predict(X_test)\n",
    "clasificacion(y_test, y_pred)"
   ]
  },
  {
   "cell_type": "code",
   "execution_count": 130,
   "id": "0087ede7-83e1-496d-8faf-badba919811d",
   "metadata": {},
   "outputs": [
    {
     "name": "stdout",
     "output_type": "stream",
     "text": [
      "Extrayendo características HOG...\n",
      "Entrenando modelo SVM...\n",
      "Evaluando modelo...\n",
      "Clasificación :\n",
      "\n",
      "Clase gatos:\n",
      "  precision: 100.00 %\n",
      "\n",
      "Clase perros:\n",
      "  precision: 71.94 %\n"
     ]
    }
   ],
   "source": [
    "\n",
    "train_dir = 'cat_dog_500/train'\n",
    "test_dir = 'cat_dog_500/test'\n",
    "\n",
    "print(\"Extrayendo características HOG...\")\n",
    "X_train, y_train = crear_dataset(train_dir)\n",
    "X_test, y_test = crear_dataset(test_dir)\n",
    "\"\"\"\n",
    "scaler = StandardScaler()\n",
    "X_train = scaler.fit_transform(X_train)\n",
    "X_test = scaler.transform(X_test)\n",
    "\"\"\"\n",
    "\n",
    "print(\"Entrenando modelo SVM...\")\n",
    "clf = SVC(kernel='linear')\n",
    "clf.fit(X_train, y_train)\n",
    "\n",
    "print(\"Evaluando modelo...\")\n",
    "y_pred = clf.predict(X_test)\n",
    "clasificacion(y_test, y_pred)"
   ]
  },
  {
   "cell_type": "code",
   "execution_count": null,
   "id": "55220f3c-3381-46f6-9624-249025af7e38",
   "metadata": {},
   "outputs": [],
   "source": []
  },
  {
   "cell_type": "code",
   "execution_count": null,
   "id": "0a8d2151-c70b-4af7-8089-84dfcf5bb63f",
   "metadata": {},
   "outputs": [],
   "source": []
  }
 ],
 "metadata": {
  "kernelspec": {
   "display_name": "Python 3 (ipykernel)",
   "language": "python",
   "name": "python3"
  },
  "language_info": {
   "codemirror_mode": {
    "name": "ipython",
    "version": 3
   },
   "file_extension": ".py",
   "mimetype": "text/x-python",
   "name": "python",
   "nbconvert_exporter": "python",
   "pygments_lexer": "ipython3",
   "version": "3.11.8"
  }
 },
 "nbformat": 4,
 "nbformat_minor": 5
}
