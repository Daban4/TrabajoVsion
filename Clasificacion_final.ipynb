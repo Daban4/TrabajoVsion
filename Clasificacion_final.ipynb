{
 "cells": [
  {
   "cell_type": "code",
   "execution_count": 1,
   "id": "14676fb5-d939-4639-9f6f-a2587e252b7d",
   "metadata": {},
   "outputs": [],
   "source": [
    "import cv2\n",
    "import numpy as np\n",
    "import os\n",
    "from skimage.feature import hog\n",
    "from sklearn.svm import SVC\n",
    "from sklearn.model_selection import GridSearchCV\n",
    "from sklearn.preprocessing import StandardScaler\n",
    "from sklearn.metrics import precision_score"
   ]
  },
  {
   "cell_type": "code",
   "execution_count": 2,
   "id": "3d62796e-dbe6-4f31-bef9-cbc7239fba85",
   "metadata": {},
   "outputs": [],
   "source": [
    "def preprocesar_imagen(ruta_imagen):\n",
    "    imagen = cv2.imread(ruta_imagen, cv2.IMREAD_GRAYSCALE)\n",
    "    if imagen is None:  # Manejar imágenes no cargadas\n",
    "        print(f\"Error al cargar la imagen: {ruta_imagen}\")\n",
    "        return None\n",
    "    imagen = cv2.resize(imagen, (128, 128))  # Redimensionar a 128x128\n",
    "    imagen = cv2.equalizeHist(imagen)        # Ecualización del histograma\n",
    "    return imagen"
   ]
  },
  {
   "cell_type": "code",
   "execution_count": 3,
   "id": "92ad86d8-e2bc-4f57-bda5-2d10b17fe4b3",
   "metadata": {},
   "outputs": [],
   "source": [
    "def extraer_caracteristicas_hog(imagen):\n",
    "    fd = hog(\n",
    "        imagen,\n",
    "        orientations=9,  # Aumentamos el número de orientaciones\n",
    "        pixels_per_cell=(8, 8),  # Reducimos el tamaño de las celdas para capturar más detalles\n",
    "        cells_per_block=(2, 2),  # Aumentamos el tamaño del bloque para mejorar la normalización\n",
    "        visualize=False  # Solo devuelve el descriptor\n",
    "    )\n",
    "    return fd"
   ]
  },
  {
   "cell_type": "code",
   "execution_count": 4,
   "id": "9c37f295-326d-4028-92b0-0edc60ebd995",
   "metadata": {},
   "outputs": [],
   "source": [
    "def crear_dataset(ruta_imagenes, extractor_caracteristicas):\n",
    "    \"\"\"\n",
    "    Crea un dataset de características y etiquetas a partir de un directorio.\n",
    "    \"\"\"\n",
    "    X, y = [], []\n",
    "    for etiqueta, nombre_clase in enumerate(['cat', 'dog']):\n",
    "        directorio_clase = os.path.join(ruta_imagenes, nombre_clase)\n",
    "        for nombre_archivo in os.listdir(directorio_clase):\n",
    "            ruta_imagen = os.path.join(directorio_clase, nombre_archivo)\n",
    "            imagen = preprocesar_imagen(ruta_imagen)\n",
    "            if imagen is None:  # Omitir imágenes no válidas\n",
    "                continue\n",
    "            caracteristicas = extractor_caracteristicas(imagen)\n",
    "            X.append(caracteristicas)\n",
    "            y.append(etiqueta)\n",
    "    return np.array(X), np.array(y)"
   ]
  },
  {
   "cell_type": "code",
   "execution_count": 5,
   "id": "0a4e76ed-5089-4b5b-abaa-352193e3535f",
   "metadata": {},
   "outputs": [],
   "source": [
    "def clasificacion(y_real, y_predicha):\n",
    "    nombres_clases = {0: \"gatos\", 1: \"perros\"}\n",
    "\n",
    "    # Inicializar un diccionario para almacenar las métricas por clase\n",
    "    reporte = {}\n",
    "    for clase in [0, 1]:\n",
    "        # Calcular las métricas por clase\n",
    "        precision = precision_score(y_real, y_predicha, labels=[clase], average=\"micro\")\n",
    "        reporte[nombres_clases[clase]] = {\n",
    "            'precisión': precision\n",
    "        }\n",
    "    # Imprimir clasificación\n",
    "    print(\"Clasificación:\")\n",
    "    for nombre_clase, metricas in reporte.items():\n",
    "        print(f\"\\nClase {nombre_clase}:\")\n",
    "        for metrica, valor in metricas.items():\n",
    "            print(f\"  {metrica}: {valor:.2f}\")"
   ]
  },
  {
   "cell_type": "code",
   "execution_count": 6,
   "id": "25a47ec7-0d7d-4c76-b971-23f3e240c6cc",
   "metadata": {},
   "outputs": [
    {
     "name": "stdout",
     "output_type": "stream",
     "text": [
      "Extrayendo características HOG...\n",
      "Normalizando características...\n",
      "Realizando búsqueda de hiperparámetros con GridSearchCV...\n",
      "Clasificación:\n",
      "\n",
      "Clase gatos:\n",
      "  precisión: 0.99\n",
      "\n",
      "Clase perros:\n",
      "  precisión: 0.81\n"
     ]
    }
   ],
   "source": [
    "ruta_train = 'cat_dog_500/train'\n",
    "ruta_test = 'cat_dog_500/test'\n",
    "\n",
    "print(\"Extrayendo características HOG...\")\n",
    "X_train, y_train = crear_dataset(ruta_train, extraer_caracteristicas_hog)\n",
    "X_test, y_test = crear_dataset(ruta_test, extraer_caracteristicas_hog)\n",
    "\n",
    "print(\"Normalizando características...\")\n",
    "# Normalizamos las características\n",
    "scaler = StandardScaler()\n",
    "X_train = scaler.fit_transform(X_train)\n",
    "X_test = scaler.transform(X_test)\n",
    "\n",
    "print(\"Realizando búsqueda de hiperparámetros con GridSearchCV...\")\n",
    "parametros = {'C': [0.1, 1, 10], 'gamma': ['scale', 'auto']}\n",
    "clf = SVC(kernel='rbf')\n",
    "busqueda_grid = GridSearchCV(clf, parametros, cv=5, scoring='accuracy')\n",
    "busqueda_grid.fit(X_train, y_train)\n",
    "\n",
    "# Evaluando el modelo con los mejores parámetros\n",
    "mejor_modelo = busqueda_grid.best_estimator_\n",
    "y_predicha = mejor_modelo.predict(X_test)\n",
    "clasificacion(y_test, y_predicha)"
   ]
  },
  {
   "cell_type": "code",
   "execution_count": null,
   "id": "21b3827f-b903-4364-a326-5e6fab0bc754",
   "metadata": {},
   "outputs": [],
   "source": []
  }
 ],
 "metadata": {
  "kernelspec": {
   "display_name": "Python 3 (ipykernel)",
   "language": "python",
   "name": "python3"
  },
  "language_info": {
   "codemirror_mode": {
    "name": "ipython",
    "version": 3
   },
   "file_extension": ".py",
   "mimetype": "text/x-python",
   "name": "python",
   "nbconvert_exporter": "python",
   "pygments_lexer": "ipython3",
   "version": "3.11.8"
  }
 },
 "nbformat": 4,
 "nbformat_minor": 5
}
